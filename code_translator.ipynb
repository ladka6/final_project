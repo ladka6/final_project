{
  "nbformat": 4,
  "nbformat_minor": 0,
  "metadata": {
    "colab": {
      "provenance": [],
      "machine_shape": "hm",
      "gpuType": "A100"
    },
    "kernelspec": {
      "name": "python3",
      "display_name": "Python 3"
    },
    "language_info": {
      "name": "python"
    },
    "accelerator": "GPU",
    "widgets": {
      "application/vnd.jupyter.widget-state+json": {
        "79b16d3895d94edfb6a6e9602b488f94": {
          "model_module": "@jupyter-widgets/controls",
          "model_name": "HBoxModel",
          "model_module_version": "1.5.0",
          "state": {
            "_dom_classes": [],
            "_model_module": "@jupyter-widgets/controls",
            "_model_module_version": "1.5.0",
            "_model_name": "HBoxModel",
            "_view_count": null,
            "_view_module": "@jupyter-widgets/controls",
            "_view_module_version": "1.5.0",
            "_view_name": "HBoxView",
            "box_style": "",
            "children": [
              "IPY_MODEL_49e1c3aa88024de9acfdffb0e05611ba",
              "IPY_MODEL_e03d906f8915472daeb3db55d72d72d2",
              "IPY_MODEL_f6c718b2447f405d8871479d75d8ebae"
            ],
            "layout": "IPY_MODEL_2ecf4927bda24889a12320ca7e7ddacd"
          }
        },
        "49e1c3aa88024de9acfdffb0e05611ba": {
          "model_module": "@jupyter-widgets/controls",
          "model_name": "HTMLModel",
          "model_module_version": "1.5.0",
          "state": {
            "_dom_classes": [],
            "_model_module": "@jupyter-widgets/controls",
            "_model_module_version": "1.5.0",
            "_model_name": "HTMLModel",
            "_view_count": null,
            "_view_module": "@jupyter-widgets/controls",
            "_view_module_version": "1.5.0",
            "_view_name": "HTMLView",
            "description": "",
            "description_tooltip": null,
            "layout": "IPY_MODEL_06210dbcce0447d6bac2ff9ed75e9d6e",
            "placeholder": "​",
            "style": "IPY_MODEL_a874b39791d8496596e520f765aaa3df",
            "value": "Map: 100%"
          }
        },
        "e03d906f8915472daeb3db55d72d72d2": {
          "model_module": "@jupyter-widgets/controls",
          "model_name": "FloatProgressModel",
          "model_module_version": "1.5.0",
          "state": {
            "_dom_classes": [],
            "_model_module": "@jupyter-widgets/controls",
            "_model_module_version": "1.5.0",
            "_model_name": "FloatProgressModel",
            "_view_count": null,
            "_view_module": "@jupyter-widgets/controls",
            "_view_module_version": "1.5.0",
            "_view_name": "ProgressView",
            "bar_style": "success",
            "description": "",
            "description_tooltip": null,
            "layout": "IPY_MODEL_6066e49fbcc542c689c9e0bb8927d488",
            "max": 1133,
            "min": 0,
            "orientation": "horizontal",
            "style": "IPY_MODEL_8fb54fbab62146e5a7d279fd7bae4ad1",
            "value": 1133
          }
        },
        "f6c718b2447f405d8871479d75d8ebae": {
          "model_module": "@jupyter-widgets/controls",
          "model_name": "HTMLModel",
          "model_module_version": "1.5.0",
          "state": {
            "_dom_classes": [],
            "_model_module": "@jupyter-widgets/controls",
            "_model_module_version": "1.5.0",
            "_model_name": "HTMLModel",
            "_view_count": null,
            "_view_module": "@jupyter-widgets/controls",
            "_view_module_version": "1.5.0",
            "_view_name": "HTMLView",
            "description": "",
            "description_tooltip": null,
            "layout": "IPY_MODEL_8e0dfa27c979431b9fed974bee18b64b",
            "placeholder": "​",
            "style": "IPY_MODEL_ebdbf3f2c5c249c3806b12e70bb25315",
            "value": " 1133/1133 [00:01&lt;00:00, 1071.60 examples/s]"
          }
        },
        "2ecf4927bda24889a12320ca7e7ddacd": {
          "model_module": "@jupyter-widgets/base",
          "model_name": "LayoutModel",
          "model_module_version": "1.2.0",
          "state": {
            "_model_module": "@jupyter-widgets/base",
            "_model_module_version": "1.2.0",
            "_model_name": "LayoutModel",
            "_view_count": null,
            "_view_module": "@jupyter-widgets/base",
            "_view_module_version": "1.2.0",
            "_view_name": "LayoutView",
            "align_content": null,
            "align_items": null,
            "align_self": null,
            "border": null,
            "bottom": null,
            "display": null,
            "flex": null,
            "flex_flow": null,
            "grid_area": null,
            "grid_auto_columns": null,
            "grid_auto_flow": null,
            "grid_auto_rows": null,
            "grid_column": null,
            "grid_gap": null,
            "grid_row": null,
            "grid_template_areas": null,
            "grid_template_columns": null,
            "grid_template_rows": null,
            "height": null,
            "justify_content": null,
            "justify_items": null,
            "left": null,
            "margin": null,
            "max_height": null,
            "max_width": null,
            "min_height": null,
            "min_width": null,
            "object_fit": null,
            "object_position": null,
            "order": null,
            "overflow": null,
            "overflow_x": null,
            "overflow_y": null,
            "padding": null,
            "right": null,
            "top": null,
            "visibility": null,
            "width": null
          }
        },
        "06210dbcce0447d6bac2ff9ed75e9d6e": {
          "model_module": "@jupyter-widgets/base",
          "model_name": "LayoutModel",
          "model_module_version": "1.2.0",
          "state": {
            "_model_module": "@jupyter-widgets/base",
            "_model_module_version": "1.2.0",
            "_model_name": "LayoutModel",
            "_view_count": null,
            "_view_module": "@jupyter-widgets/base",
            "_view_module_version": "1.2.0",
            "_view_name": "LayoutView",
            "align_content": null,
            "align_items": null,
            "align_self": null,
            "border": null,
            "bottom": null,
            "display": null,
            "flex": null,
            "flex_flow": null,
            "grid_area": null,
            "grid_auto_columns": null,
            "grid_auto_flow": null,
            "grid_auto_rows": null,
            "grid_column": null,
            "grid_gap": null,
            "grid_row": null,
            "grid_template_areas": null,
            "grid_template_columns": null,
            "grid_template_rows": null,
            "height": null,
            "justify_content": null,
            "justify_items": null,
            "left": null,
            "margin": null,
            "max_height": null,
            "max_width": null,
            "min_height": null,
            "min_width": null,
            "object_fit": null,
            "object_position": null,
            "order": null,
            "overflow": null,
            "overflow_x": null,
            "overflow_y": null,
            "padding": null,
            "right": null,
            "top": null,
            "visibility": null,
            "width": null
          }
        },
        "a874b39791d8496596e520f765aaa3df": {
          "model_module": "@jupyter-widgets/controls",
          "model_name": "DescriptionStyleModel",
          "model_module_version": "1.5.0",
          "state": {
            "_model_module": "@jupyter-widgets/controls",
            "_model_module_version": "1.5.0",
            "_model_name": "DescriptionStyleModel",
            "_view_count": null,
            "_view_module": "@jupyter-widgets/base",
            "_view_module_version": "1.2.0",
            "_view_name": "StyleView",
            "description_width": ""
          }
        },
        "6066e49fbcc542c689c9e0bb8927d488": {
          "model_module": "@jupyter-widgets/base",
          "model_name": "LayoutModel",
          "model_module_version": "1.2.0",
          "state": {
            "_model_module": "@jupyter-widgets/base",
            "_model_module_version": "1.2.0",
            "_model_name": "LayoutModel",
            "_view_count": null,
            "_view_module": "@jupyter-widgets/base",
            "_view_module_version": "1.2.0",
            "_view_name": "LayoutView",
            "align_content": null,
            "align_items": null,
            "align_self": null,
            "border": null,
            "bottom": null,
            "display": null,
            "flex": null,
            "flex_flow": null,
            "grid_area": null,
            "grid_auto_columns": null,
            "grid_auto_flow": null,
            "grid_auto_rows": null,
            "grid_column": null,
            "grid_gap": null,
            "grid_row": null,
            "grid_template_areas": null,
            "grid_template_columns": null,
            "grid_template_rows": null,
            "height": null,
            "justify_content": null,
            "justify_items": null,
            "left": null,
            "margin": null,
            "max_height": null,
            "max_width": null,
            "min_height": null,
            "min_width": null,
            "object_fit": null,
            "object_position": null,
            "order": null,
            "overflow": null,
            "overflow_x": null,
            "overflow_y": null,
            "padding": null,
            "right": null,
            "top": null,
            "visibility": null,
            "width": null
          }
        },
        "8fb54fbab62146e5a7d279fd7bae4ad1": {
          "model_module": "@jupyter-widgets/controls",
          "model_name": "ProgressStyleModel",
          "model_module_version": "1.5.0",
          "state": {
            "_model_module": "@jupyter-widgets/controls",
            "_model_module_version": "1.5.0",
            "_model_name": "ProgressStyleModel",
            "_view_count": null,
            "_view_module": "@jupyter-widgets/base",
            "_view_module_version": "1.2.0",
            "_view_name": "StyleView",
            "bar_color": null,
            "description_width": ""
          }
        },
        "8e0dfa27c979431b9fed974bee18b64b": {
          "model_module": "@jupyter-widgets/base",
          "model_name": "LayoutModel",
          "model_module_version": "1.2.0",
          "state": {
            "_model_module": "@jupyter-widgets/base",
            "_model_module_version": "1.2.0",
            "_model_name": "LayoutModel",
            "_view_count": null,
            "_view_module": "@jupyter-widgets/base",
            "_view_module_version": "1.2.0",
            "_view_name": "LayoutView",
            "align_content": null,
            "align_items": null,
            "align_self": null,
            "border": null,
            "bottom": null,
            "display": null,
            "flex": null,
            "flex_flow": null,
            "grid_area": null,
            "grid_auto_columns": null,
            "grid_auto_flow": null,
            "grid_auto_rows": null,
            "grid_column": null,
            "grid_gap": null,
            "grid_row": null,
            "grid_template_areas": null,
            "grid_template_columns": null,
            "grid_template_rows": null,
            "height": null,
            "justify_content": null,
            "justify_items": null,
            "left": null,
            "margin": null,
            "max_height": null,
            "max_width": null,
            "min_height": null,
            "min_width": null,
            "object_fit": null,
            "object_position": null,
            "order": null,
            "overflow": null,
            "overflow_x": null,
            "overflow_y": null,
            "padding": null,
            "right": null,
            "top": null,
            "visibility": null,
            "width": null
          }
        },
        "ebdbf3f2c5c249c3806b12e70bb25315": {
          "model_module": "@jupyter-widgets/controls",
          "model_name": "DescriptionStyleModel",
          "model_module_version": "1.5.0",
          "state": {
            "_model_module": "@jupyter-widgets/controls",
            "_model_module_version": "1.5.0",
            "_model_name": "DescriptionStyleModel",
            "_view_count": null,
            "_view_module": "@jupyter-widgets/base",
            "_view_module_version": "1.2.0",
            "_view_name": "StyleView",
            "description_width": ""
          }
        },
        "e0cae411669f46b8aac9da9a2148eac1": {
          "model_module": "@jupyter-widgets/controls",
          "model_name": "HBoxModel",
          "model_module_version": "1.5.0",
          "state": {
            "_dom_classes": [],
            "_model_module": "@jupyter-widgets/controls",
            "_model_module_version": "1.5.0",
            "_model_name": "HBoxModel",
            "_view_count": null,
            "_view_module": "@jupyter-widgets/controls",
            "_view_module_version": "1.5.0",
            "_view_name": "HBoxView",
            "box_style": "",
            "children": [
              "IPY_MODEL_0d246f9142b047b3b83365e9ee317d6a",
              "IPY_MODEL_4f53a82956cc4503871f33f916a3fe3b",
              "IPY_MODEL_7f90ffb9c35146af818a31b3945777bb"
            ],
            "layout": "IPY_MODEL_f34a0abe72e340fe84edae6e53de2e76"
          }
        },
        "0d246f9142b047b3b83365e9ee317d6a": {
          "model_module": "@jupyter-widgets/controls",
          "model_name": "HTMLModel",
          "model_module_version": "1.5.0",
          "state": {
            "_dom_classes": [],
            "_model_module": "@jupyter-widgets/controls",
            "_model_module_version": "1.5.0",
            "_model_name": "HTMLModel",
            "_view_count": null,
            "_view_module": "@jupyter-widgets/controls",
            "_view_module_version": "1.5.0",
            "_view_name": "HTMLView",
            "description": "",
            "description_tooltip": null,
            "layout": "IPY_MODEL_7786d94c5558496d85ca80765b1a6a5f",
            "placeholder": "​",
            "style": "IPY_MODEL_067d044d5a654aa89c3141dddd63c434",
            "value": "Map: 100%"
          }
        },
        "4f53a82956cc4503871f33f916a3fe3b": {
          "model_module": "@jupyter-widgets/controls",
          "model_name": "FloatProgressModel",
          "model_module_version": "1.5.0",
          "state": {
            "_dom_classes": [],
            "_model_module": "@jupyter-widgets/controls",
            "_model_module_version": "1.5.0",
            "_model_name": "FloatProgressModel",
            "_view_count": null,
            "_view_module": "@jupyter-widgets/controls",
            "_view_module_version": "1.5.0",
            "_view_name": "ProgressView",
            "bar_style": "success",
            "description": "",
            "description_tooltip": null,
            "layout": "IPY_MODEL_cc5fb016425943a58517c9ae2995e54d",
            "max": 284,
            "min": 0,
            "orientation": "horizontal",
            "style": "IPY_MODEL_97f0c0b35af14576a660bb044d0a932e",
            "value": 284
          }
        },
        "7f90ffb9c35146af818a31b3945777bb": {
          "model_module": "@jupyter-widgets/controls",
          "model_name": "HTMLModel",
          "model_module_version": "1.5.0",
          "state": {
            "_dom_classes": [],
            "_model_module": "@jupyter-widgets/controls",
            "_model_module_version": "1.5.0",
            "_model_name": "HTMLModel",
            "_view_count": null,
            "_view_module": "@jupyter-widgets/controls",
            "_view_module_version": "1.5.0",
            "_view_name": "HTMLView",
            "description": "",
            "description_tooltip": null,
            "layout": "IPY_MODEL_195e8acf97ec4769b1878faec344d41c",
            "placeholder": "​",
            "style": "IPY_MODEL_e167102986ff43f3bc539e44d7eceb9d",
            "value": " 284/284 [00:00&lt;00:00, 1040.28 examples/s]"
          }
        },
        "f34a0abe72e340fe84edae6e53de2e76": {
          "model_module": "@jupyter-widgets/base",
          "model_name": "LayoutModel",
          "model_module_version": "1.2.0",
          "state": {
            "_model_module": "@jupyter-widgets/base",
            "_model_module_version": "1.2.0",
            "_model_name": "LayoutModel",
            "_view_count": null,
            "_view_module": "@jupyter-widgets/base",
            "_view_module_version": "1.2.0",
            "_view_name": "LayoutView",
            "align_content": null,
            "align_items": null,
            "align_self": null,
            "border": null,
            "bottom": null,
            "display": null,
            "flex": null,
            "flex_flow": null,
            "grid_area": null,
            "grid_auto_columns": null,
            "grid_auto_flow": null,
            "grid_auto_rows": null,
            "grid_column": null,
            "grid_gap": null,
            "grid_row": null,
            "grid_template_areas": null,
            "grid_template_columns": null,
            "grid_template_rows": null,
            "height": null,
            "justify_content": null,
            "justify_items": null,
            "left": null,
            "margin": null,
            "max_height": null,
            "max_width": null,
            "min_height": null,
            "min_width": null,
            "object_fit": null,
            "object_position": null,
            "order": null,
            "overflow": null,
            "overflow_x": null,
            "overflow_y": null,
            "padding": null,
            "right": null,
            "top": null,
            "visibility": null,
            "width": null
          }
        },
        "7786d94c5558496d85ca80765b1a6a5f": {
          "model_module": "@jupyter-widgets/base",
          "model_name": "LayoutModel",
          "model_module_version": "1.2.0",
          "state": {
            "_model_module": "@jupyter-widgets/base",
            "_model_module_version": "1.2.0",
            "_model_name": "LayoutModel",
            "_view_count": null,
            "_view_module": "@jupyter-widgets/base",
            "_view_module_version": "1.2.0",
            "_view_name": "LayoutView",
            "align_content": null,
            "align_items": null,
            "align_self": null,
            "border": null,
            "bottom": null,
            "display": null,
            "flex": null,
            "flex_flow": null,
            "grid_area": null,
            "grid_auto_columns": null,
            "grid_auto_flow": null,
            "grid_auto_rows": null,
            "grid_column": null,
            "grid_gap": null,
            "grid_row": null,
            "grid_template_areas": null,
            "grid_template_columns": null,
            "grid_template_rows": null,
            "height": null,
            "justify_content": null,
            "justify_items": null,
            "left": null,
            "margin": null,
            "max_height": null,
            "max_width": null,
            "min_height": null,
            "min_width": null,
            "object_fit": null,
            "object_position": null,
            "order": null,
            "overflow": null,
            "overflow_x": null,
            "overflow_y": null,
            "padding": null,
            "right": null,
            "top": null,
            "visibility": null,
            "width": null
          }
        },
        "067d044d5a654aa89c3141dddd63c434": {
          "model_module": "@jupyter-widgets/controls",
          "model_name": "DescriptionStyleModel",
          "model_module_version": "1.5.0",
          "state": {
            "_model_module": "@jupyter-widgets/controls",
            "_model_module_version": "1.5.0",
            "_model_name": "DescriptionStyleModel",
            "_view_count": null,
            "_view_module": "@jupyter-widgets/base",
            "_view_module_version": "1.2.0",
            "_view_name": "StyleView",
            "description_width": ""
          }
        },
        "cc5fb016425943a58517c9ae2995e54d": {
          "model_module": "@jupyter-widgets/base",
          "model_name": "LayoutModel",
          "model_module_version": "1.2.0",
          "state": {
            "_model_module": "@jupyter-widgets/base",
            "_model_module_version": "1.2.0",
            "_model_name": "LayoutModel",
            "_view_count": null,
            "_view_module": "@jupyter-widgets/base",
            "_view_module_version": "1.2.0",
            "_view_name": "LayoutView",
            "align_content": null,
            "align_items": null,
            "align_self": null,
            "border": null,
            "bottom": null,
            "display": null,
            "flex": null,
            "flex_flow": null,
            "grid_area": null,
            "grid_auto_columns": null,
            "grid_auto_flow": null,
            "grid_auto_rows": null,
            "grid_column": null,
            "grid_gap": null,
            "grid_row": null,
            "grid_template_areas": null,
            "grid_template_columns": null,
            "grid_template_rows": null,
            "height": null,
            "justify_content": null,
            "justify_items": null,
            "left": null,
            "margin": null,
            "max_height": null,
            "max_width": null,
            "min_height": null,
            "min_width": null,
            "object_fit": null,
            "object_position": null,
            "order": null,
            "overflow": null,
            "overflow_x": null,
            "overflow_y": null,
            "padding": null,
            "right": null,
            "top": null,
            "visibility": null,
            "width": null
          }
        },
        "97f0c0b35af14576a660bb044d0a932e": {
          "model_module": "@jupyter-widgets/controls",
          "model_name": "ProgressStyleModel",
          "model_module_version": "1.5.0",
          "state": {
            "_model_module": "@jupyter-widgets/controls",
            "_model_module_version": "1.5.0",
            "_model_name": "ProgressStyleModel",
            "_view_count": null,
            "_view_module": "@jupyter-widgets/base",
            "_view_module_version": "1.2.0",
            "_view_name": "StyleView",
            "bar_color": null,
            "description_width": ""
          }
        },
        "195e8acf97ec4769b1878faec344d41c": {
          "model_module": "@jupyter-widgets/base",
          "model_name": "LayoutModel",
          "model_module_version": "1.2.0",
          "state": {
            "_model_module": "@jupyter-widgets/base",
            "_model_module_version": "1.2.0",
            "_model_name": "LayoutModel",
            "_view_count": null,
            "_view_module": "@jupyter-widgets/base",
            "_view_module_version": "1.2.0",
            "_view_name": "LayoutView",
            "align_content": null,
            "align_items": null,
            "align_self": null,
            "border": null,
            "bottom": null,
            "display": null,
            "flex": null,
            "flex_flow": null,
            "grid_area": null,
            "grid_auto_columns": null,
            "grid_auto_flow": null,
            "grid_auto_rows": null,
            "grid_column": null,
            "grid_gap": null,
            "grid_row": null,
            "grid_template_areas": null,
            "grid_template_columns": null,
            "grid_template_rows": null,
            "height": null,
            "justify_content": null,
            "justify_items": null,
            "left": null,
            "margin": null,
            "max_height": null,
            "max_width": null,
            "min_height": null,
            "min_width": null,
            "object_fit": null,
            "object_position": null,
            "order": null,
            "overflow": null,
            "overflow_x": null,
            "overflow_y": null,
            "padding": null,
            "right": null,
            "top": null,
            "visibility": null,
            "width": null
          }
        },
        "e167102986ff43f3bc539e44d7eceb9d": {
          "model_module": "@jupyter-widgets/controls",
          "model_name": "DescriptionStyleModel",
          "model_module_version": "1.5.0",
          "state": {
            "_model_module": "@jupyter-widgets/controls",
            "_model_module_version": "1.5.0",
            "_model_name": "DescriptionStyleModel",
            "_view_count": null,
            "_view_module": "@jupyter-widgets/base",
            "_view_module_version": "1.2.0",
            "_view_name": "StyleView",
            "description_width": ""
          }
        }
      }
    }
  },
  "cells": [
    {
      "cell_type": "code",
      "execution_count": 2,
      "metadata": {
        "colab": {
          "base_uri": "https://localhost:8080/"
        },
        "id": "fvNvhAyLIiub",
        "outputId": "ea6ec63b-fa7c-42e7-9695-6f7767d2c283"
      },
      "outputs": [
        {
          "output_type": "stream",
          "name": "stdout",
          "text": [
            "Mounted at /content/drive\n"
          ]
        }
      ],
      "source": [
        "from google.colab import drive\n",
        "drive.mount('/content/drive')"
      ]
    },
    {
      "cell_type": "code",
      "source": [
        "!pip install transformers\n",
        "!pip install datasets\n",
        "!pip install accelerate -U\n",
        "!pip install transformers[torch]\n",
        "!pip install tensorflow"
      ],
      "metadata": {
        "id": "I-2lNSACImpu"
      },
      "execution_count": null,
      "outputs": []
    },
    {
      "cell_type": "code",
      "source": [
        "from torch.utils.data import Dataset, DataLoader\n",
        "from transformers import T5Tokenizer, T5EncoderModel, T5ForConditionalGeneration, GPT2LMHeadModel, AutoModel, AutoTokenizer, EncoderDecoderModel, AutoConfig,Trainer, TrainingArguments\n",
        "import pandas as pd\n",
        "import torch.nn as nn\n",
        "from torch.utils.data import Dataset\n",
        "import torch\n",
        "from sklearn.model_selection import train_test_split\n",
        "from datasets import load_dataset\n",
        "from torch.nn import TransformerDecoder, CrossEntropyLoss\n",
        "from torch.nn import functional as F\n",
        "from typing import Union, Tuple, Optional\n",
        "from transformers.utils import is_torch_fx_proxy\n",
        "from transformers.modeling_outputs import Seq2SeqLMOutput\n"
      ],
      "metadata": {
        "id": "ZyiI5nW5JAYH"
      },
      "execution_count": 9,
      "outputs": []
    },
    {
      "cell_type": "code",
      "source": [
        "def load_dataset_from_csv(file_path, tokenizer, max_length=512):\n",
        "    dataset = load_dataset('csv', data_files=file_path, split='train')\n",
        "    dataset = dataset.filter(lambda example: all(value is not None for value in example.values()))\n",
        "    dataset = dataset.train_test_split(test_size=0.2)\n",
        "\n",
        "    def tokenize_function(examples):\n",
        "        inputs = tokenizer(examples['lang1'], padding='max_length', max_length=max_length, truncation=True, return_tensors=\"pt\")\n",
        "        targets = tokenizer(examples['lang2'], padding='max_length', max_length=max_length, truncation=True, return_tensors=\"pt\")\n",
        "        attention_mask = inputs.attention_mask\n",
        "\n",
        "        return {\n",
        "            'input_ids': inputs.input_ids,\n",
        "            'attention_mask': attention_mask,\n",
        "            'labels': targets.input_ids}\n",
        "\n",
        "\n",
        "    tokenized_datasets = dataset.map(tokenize_function, batched=True, remove_columns=dataset[\"train\"].column_names)\n",
        "    return tokenized_datasets"
      ],
      "metadata": {
        "id": "AFnh6zt8NR8q"
      },
      "execution_count": 2,
      "outputs": []
    },
    {
      "cell_type": "code",
      "source": [
        "tokenizer = AutoTokenizer.from_pretrained(\"microsoft/codebert-base\")\n",
        "file_path = \"./drive/MyDrive/preprocessed.csv\"\n",
        "dataset = load_dataset_from_csv(file_path, tokenizer)"
      ],
      "metadata": {
        "colab": {
          "base_uri": "https://localhost:8080/",
          "height": 81,
          "referenced_widgets": [
            "79b16d3895d94edfb6a6e9602b488f94",
            "49e1c3aa88024de9acfdffb0e05611ba",
            "e03d906f8915472daeb3db55d72d72d2",
            "f6c718b2447f405d8871479d75d8ebae",
            "2ecf4927bda24889a12320ca7e7ddacd",
            "06210dbcce0447d6bac2ff9ed75e9d6e",
            "a874b39791d8496596e520f765aaa3df",
            "6066e49fbcc542c689c9e0bb8927d488",
            "8fb54fbab62146e5a7d279fd7bae4ad1",
            "8e0dfa27c979431b9fed974bee18b64b",
            "ebdbf3f2c5c249c3806b12e70bb25315",
            "e0cae411669f46b8aac9da9a2148eac1",
            "0d246f9142b047b3b83365e9ee317d6a",
            "4f53a82956cc4503871f33f916a3fe3b",
            "7f90ffb9c35146af818a31b3945777bb",
            "f34a0abe72e340fe84edae6e53de2e76",
            "7786d94c5558496d85ca80765b1a6a5f",
            "067d044d5a654aa89c3141dddd63c434",
            "cc5fb016425943a58517c9ae2995e54d",
            "97f0c0b35af14576a660bb044d0a932e",
            "195e8acf97ec4769b1878faec344d41c",
            "e167102986ff43f3bc539e44d7eceb9d"
          ]
        },
        "id": "YAlZ_sDtNUPI",
        "outputId": "d6d80d0f-0ca4-41f1-8dc5-c1e81682ff74"
      },
      "execution_count": 4,
      "outputs": [
        {
          "output_type": "display_data",
          "data": {
            "text/plain": [
              "Map:   0%|          | 0/1133 [00:00<?, ? examples/s]"
            ],
            "application/vnd.jupyter.widget-view+json": {
              "version_major": 2,
              "version_minor": 0,
              "model_id": "79b16d3895d94edfb6a6e9602b488f94"
            }
          },
          "metadata": {}
        },
        {
          "output_type": "display_data",
          "data": {
            "text/plain": [
              "Map:   0%|          | 0/284 [00:00<?, ? examples/s]"
            ],
            "application/vnd.jupyter.widget-view+json": {
              "version_major": 2,
              "version_minor": 0,
              "model_id": "e0cae411669f46b8aac9da9a2148eac1"
            }
          },
          "metadata": {}
        }
      ]
    },
    {
      "cell_type": "code",
      "source": [
        "import torch.nn.functional as F\n",
        "\n",
        "class CodeTranslator(nn.Module):\n",
        "    def __init__(self, encoder_model, vocab_size, d_model, nhead=4, num_layers=4):\n",
        "        super(CodeTranslator, self).__init__()\n",
        "        self.block_size = encoder_model.config.max_position_embeddings\n",
        "        self.token_embedding_table = nn.Embedding(vocab_size, d_model)\n",
        "        self.position_embedding_table = nn.Embedding(self.block_size, d_model)\n",
        "        self.encoder_model = encoder_model\n",
        "        self.decoder_layer = nn.TransformerDecoderLayer(d_model=d_model,\n",
        "                                                        nhead=nhead)\n",
        "        self.decoder = nn.TransformerDecoder(self.decoder_layer, num_layers=num_layers)\n",
        "        self.lm_head = nn.Linear(in_features=d_model, out_features=vocab_size)\n",
        "        self.softmax = nn.Softmax(-1)\n",
        "\n",
        "    def forward(self, input_ids, labels=None, attention_mask=None):\n",
        "        if attention_mask is None:\n",
        "            encoder_outputs = self.encoder_model(input_ids=input_ids)\n",
        "        else:\n",
        "            encoder_outputs = self.encoder_model(input_ids=input_ids, attention_mask=attention_mask)\n",
        "\n",
        "        B, T = input_ids.shape\n",
        "        last_hidden_state = encoder_outputs[0]\n",
        "\n",
        "        tok_emb = self.token_embedding_table(input_ids)\n",
        "\n",
        "        pos_emb = self.position_embedding_table(torch.arange(T, device=input_ids.device))\n",
        "\n",
        "        x = tok_emb + pos_emb\n",
        "\n",
        "        x = self.decoder(\n",
        "            tgt = x,\n",
        "            memory = last_hidden_state,\n",
        "        )\n",
        "\n",
        "        logits = self.lm_head(x)\n",
        "\n",
        "        loss = None\n",
        "        if labels is not None:\n",
        "            B, T, C = logits.shape\n",
        "            loss_fct = CrossEntropyLoss(ignore_index=-100)\n",
        "            logits = logits.view(B * T, C)\n",
        "            labels = labels.view(B * T)\n",
        "            loss = F.cross_entropy(logits, labels)\n",
        "        return Seq2SeqLMOutput(\n",
        "            loss=loss,\n",
        "            logits=logits,\n",
        "        )\n",
        "\n",
        "    def generate(self, input_tokens, max_length=50):\n",
        "        for _ in range(max_length):\n",
        "            input_tokens_cond = input_tokens[:, -self.block_size:]\n",
        "\n",
        "            logits = self(input_tokens_cond).logits\n",
        "\n",
        "            logits = logits[:,-1,:]\n",
        "\n",
        "            probs = F.softmax(logits, dim=-1)\n",
        "\n",
        "            input_tokens_next = torch.multinomial(probs, num_samples=1)\n",
        "\n",
        "            input_tokens = torch.cat((input_tokens, input_tokens_next), dim=1)\n",
        "        return input_tokens\n",
        "\n",
        "\n",
        "        output_tokens = output_ids[1:]\n",
        "        return output_tokens"
      ],
      "metadata": {
        "id": "8h7PWW1GPWGq"
      },
      "execution_count": 99,
      "outputs": []
    },
    {
      "cell_type": "code",
      "source": [
        "encoder_model = AutoModel.from_pretrained(\"microsoft/codebert-base\")\n",
        "hidden_size = encoder_model.config.hidden_size\n",
        "vocab_size = tokenizer.vocab_size\n",
        "d_model = 768\n",
        "decoder_start_token_id = tokenizer.pad_token_id\n",
        "\n",
        "model = CodeTranslator(encoder_model=encoder_model,\n",
        "                       vocab_size=vocab_size,\n",
        "                       d_model=d_model,)\n",
        "model = model.to('cuda')"
      ],
      "metadata": {
        "id": "_pexbQlqWY7c"
      },
      "execution_count": 100,
      "outputs": []
    },
    {
      "cell_type": "code",
      "source": [
        "training_args = TrainingArguments(\n",
        "    output_dir=\"/content/drive/MyDrive/code_translator\",\n",
        "    num_train_epochs=50,\n",
        "    per_device_train_batch_size=32,\n",
        "    save_steps=600,\n",
        "    save_total_limit=2,\n",
        "    prediction_loss_only=False,\n",
        "    logging_steps=100,\n",
        "    evaluation_strategy=\"steps\",\n",
        "    eval_steps=200,\n",
        "    logging_dir=\"./logs\",\n",
        "    logging_first_step=True,\n",
        "    load_best_model_at_end=True,\n",
        "    metric_for_best_model=\"eval_loss\",\n",
        "    greater_is_better=False,\n",
        "    learning_rate=5e-5,\n",
        "    lr_scheduler_type=\"linear\",\n",
        "    warmup_steps=0,\n",
        "    gradient_accumulation_steps=1,\n",
        "    logging_strategy=\"steps\",\n",
        ")\n",
        "\n",
        "\n",
        "\n",
        "trainer = Trainer(\n",
        "    model=model,\n",
        "    args=training_args,\n",
        "    train_dataset=dataset['train'],\n",
        "    eval_dataset=dataset['test'],\n",
        ")\n",
        "\n",
        "trainer.train()"
      ],
      "metadata": {
        "colab": {
          "base_uri": "https://localhost:8080/",
          "height": 436
        },
        "id": "mS6W5vJTWTg6",
        "outputId": "52823211-e44b-4779-bc3a-64c57bc6ca45"
      },
      "execution_count": null,
      "outputs": [
        {
          "output_type": "stream",
          "name": "stderr",
          "text": [
            "/usr/local/lib/python3.10/dist-packages/accelerate/accelerator.py:432: FutureWarning: Passing the following arguments to `Accelerator` is deprecated and will be removed in version 1.0 of Accelerate: dict_keys(['dispatch_batches', 'split_batches', 'even_batches', 'use_seedable_sampler']). Please pass an `accelerate.DataLoaderConfiguration` instead: \n",
            "dataloader_config = DataLoaderConfiguration(dispatch_batches=None, split_batches=False, even_batches=True, use_seedable_sampler=True)\n",
            "  warnings.warn(\n"
          ]
        },
        {
          "output_type": "display_data",
          "data": {
            "text/plain": [
              "<IPython.core.display.HTML object>"
            ],
            "text/html": [
              "\n",
              "    <div>\n",
              "      \n",
              "      <progress value='1784' max='1800' style='width:300px; height:20px; vertical-align: middle;'></progress>\n",
              "      [1784/1800 34:34 < 00:18, 0.86 it/s, Epoch 49.53/50]\n",
              "    </div>\n",
              "    <table border=\"1\" class=\"dataframe\">\n",
              "  <thead>\n",
              " <tr style=\"text-align: left;\">\n",
              "      <th>Step</th>\n",
              "      <th>Training Loss</th>\n",
              "      <th>Validation Loss</th>\n",
              "    </tr>\n",
              "  </thead>\n",
              "  <tbody>\n",
              "    <tr>\n",
              "      <td>200</td>\n",
              "      <td>3.807200</td>\n",
              "      <td>3.806203</td>\n",
              "    </tr>\n",
              "    <tr>\n",
              "      <td>400</td>\n",
              "      <td>3.709600</td>\n",
              "      <td>3.766750</td>\n",
              "    </tr>\n",
              "    <tr>\n",
              "      <td>600</td>\n",
              "      <td>3.682500</td>\n",
              "      <td>3.731620</td>\n",
              "    </tr>\n",
              "    <tr>\n",
              "      <td>800</td>\n",
              "      <td>3.626400</td>\n",
              "      <td>3.675152</td>\n",
              "    </tr>\n",
              "    <tr>\n",
              "      <td>1000</td>\n",
              "      <td>3.570600</td>\n",
              "      <td>3.657036</td>\n",
              "    </tr>\n",
              "    <tr>\n",
              "      <td>1200</td>\n",
              "      <td>3.535100</td>\n",
              "      <td>3.657521</td>\n",
              "    </tr>\n",
              "    <tr>\n",
              "      <td>1400</td>\n",
              "      <td>3.501300</td>\n",
              "      <td>3.646331</td>\n",
              "    </tr>\n",
              "    <tr>\n",
              "      <td>1600</td>\n",
              "      <td>3.475600</td>\n",
              "      <td>3.644694</td>\n",
              "    </tr>\n",
              "  </tbody>\n",
              "</table><p>"
            ]
          },
          "metadata": {}
        },
        {
          "output_type": "stream",
          "name": "stderr",
          "text": [
            "Checkpoint destination directory /content/drive/MyDrive/code_translator/checkpoint-600 already exists and is non-empty. Saving will proceed but saved results may be invalid.\n",
            "Checkpoint destination directory /content/drive/MyDrive/code_translator/checkpoint-1200 already exists and is non-empty. Saving will proceed but saved results may be invalid.\n"
          ]
        }
      ]
    },
    {
      "cell_type": "code",
      "source": [
        "java_code = \"\"\"\n",
        "class MyClass {\n",
        "    public static void main(String[] args) {\n",
        "        System.out.println(\"Hello, World!\");\n",
        "    }\n",
        "}\n",
        "\"\"\""
      ],
      "metadata": {
        "id": "JhUdt11Kwy07"
      },
      "execution_count": 102,
      "outputs": []
    },
    {
      "cell_type": "code",
      "source": [
        "def generate_translation(model, input_text, tokenizer, max_length=50):\n",
        "    model.eval()\n",
        "    input_ids = tokenizer.encode(input_text, return_tensors=\"pt\")\n",
        "    input_ids = input_ids.to('cuda')\n",
        "\n",
        "    # Generate translation\n",
        "    with torch.no_grad():\n",
        "        output_ids = model.generate(input_ids, max_length=max_length)\n",
        "\n",
        "    # Decode the generated output\n",
        "    output_text = tokenizer.decode(output_ids[0][1:], skip_special_tokens=True)\n",
        "\n",
        "    return output_text\n",
        "\n",
        "python_code = generate_translation(model, java_code, tokenizer)\n",
        "print(\"Generated Python code:\\n\", python_code)"
      ],
      "metadata": {
        "colab": {
          "base_uri": "https://localhost:8080/"
        },
        "id": "q3ws3uD8qfph",
        "outputId": "23a3fe89-d42d-4d7d-9259-5074862d808f"
      },
      "execution_count": 103,
      "outputs": [
        {
          "output_type": "stream",
          "name": "stdout",
          "text": [
            "Generated Python code:\n",
            " \n",
            "class MyClass {\n",
            "    public static void main(String[] args) {\n",
            "        System.out.println(\"Hello, World!\");\n",
            "    }\n",
            "}\n",
            "  rotateN10 \n",
            " BST) range ==() n print alternateseandIS, image Node None next in(\n",
            " \n"
          ]
        }
      ]
    },
    {
      "cell_type": "code",
      "source": [
        "%load_ext tensorboard"
      ],
      "metadata": {
        "colab": {
          "base_uri": "https://localhost:8080/"
        },
        "id": "mlJL5UMgyqF4",
        "outputId": "97440a07-7add-4996-dc88-2b96be7b6763"
      },
      "execution_count": 104,
      "outputs": [
        {
          "output_type": "stream",
          "name": "stdout",
          "text": [
            "The tensorboard extension is already loaded. To reload it, use:\n",
            "  %reload_ext tensorboard\n"
          ]
        }
      ]
    },
    {
      "cell_type": "code",
      "source": [
        "%tensorboard serve --logdir logs"
      ],
      "metadata": {
        "id": "A7Mv1yOM0aSp"
      },
      "execution_count": null,
      "outputs": []
    },
    {
      "cell_type": "code",
      "source": [
        "dataset = load_dataset('csv', data_files=file_path, split='train')\n",
        "dataset = dataset.filter(lambda example: all(value is not None for value in example.values()))\n",
        "dataset = dataset.train_test_split(test_size=0.2)"
      ],
      "metadata": {
        "colab": {
          "base_uri": "https://localhost:8080/"
        },
        "id": "OYAeqYuy92W4",
        "outputId": "614c1de5-1a8c-4450-b4f3-17169abe4e07"
      },
      "execution_count": 109,
      "outputs": [
        {
          "output_type": "execute_result",
          "data": {
            "text/plain": [
              "DatasetDict({\n",
              "    train: Dataset({\n",
              "        features: ['query', 'lang1', 'lang2'],\n",
              "        num_rows: 1133\n",
              "    })\n",
              "    test: Dataset({\n",
              "        features: ['query', 'lang1', 'lang2'],\n",
              "        num_rows: 284\n",
              "    })\n",
              "})"
            ]
          },
          "metadata": {},
          "execution_count": 109
        }
      ]
    },
    {
      "cell_type": "code",
      "source": [
        "df = dataset['test'].to_pandas()"
      ],
      "metadata": {
        "id": "fobTUwGV-n7A"
      },
      "execution_count": 119,
      "outputs": []
    },
    {
      "cell_type": "code",
      "source": [
        "reference_dataset_java = []  # List of Java code strings\n",
        "reference_dataset_python = []  # List of Python code strings"
      ],
      "metadata": {
        "id": "TxADqjFH_NOa"
      },
      "execution_count": 139,
      "outputs": []
    },
    {
      "cell_type": "code",
      "source": [
        "for index, row in df.iterrows():\n",
        "    reference_dataset_java.append(row['lang1'])\n",
        "    reference_dataset_python.append(row['lang2'])"
      ],
      "metadata": {
        "id": "PgEE3JeK-1rv"
      },
      "execution_count": 140,
      "outputs": []
    },
    {
      "cell_type": "code",
      "source": [
        "reference_dataset_java = reference_dataset_java[:10]\n",
        "reference_dataset_python = reference_dataset_python[:10]\n"
      ],
      "metadata": {
        "id": "g7elwtJ1_1YT"
      },
      "execution_count": 141,
      "outputs": []
    },
    {
      "cell_type": "code",
      "source": [
        "import nltk\n",
        "from nltk.translate.bleu_score import corpus_bleu\n",
        "import tokenize\n",
        "import io\n",
        "\n",
        "def tokenize_python_code(code):\n",
        "    return [token.string for token in tokenize.tokenize(io.BytesIO(code.encode('utf-8')).readline)]"
      ],
      "metadata": {
        "id": "_-xLT8vR_-x1"
      },
      "execution_count": 142,
      "outputs": []
    },
    {
      "cell_type": "code",
      "source": [
        "py_gen = []\n",
        "for _ in range(10):\n",
        "    out = generate_translation(model,java_code[:50], tokenizer)\n",
        "    py_gen.append(out)"
      ],
      "metadata": {
        "id": "DRPwKv-xAHiY"
      },
      "execution_count": null,
      "outputs": []
    },
    {
      "cell_type": "code",
      "source": [
        "reference_dataset_tokenized = [[tokenize_python_code(code) for code in refs] for refs in reference_dataset_python]\n",
        "generated_texts_tokenized = [tokenize_python_code(code) for code in py_gen]\n",
        "\n",
        "bleu_score = corpus_bleu(reference_dataset_tokenized, generated_texts_tokenized)\n",
        "print(\"BLEU Score:\", bleu_score)\n"
      ],
      "metadata": {
        "id": "PlY-3NTnA41-"
      },
      "execution_count": null,
      "outputs": []
    }
  ]
}