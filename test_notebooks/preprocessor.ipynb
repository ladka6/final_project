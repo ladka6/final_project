{
  "nbformat": 4,
  "nbformat_minor": 0,
  "metadata": {
    "colab": {
      "provenance": []
    },
    "kernelspec": {
      "name": "python3",
      "display_name": "Python 3"
    },
    "language_info": {
      "name": "python"
    }
  },
  "cells": [
    {
      "cell_type": "code",
      "execution_count": null,
      "metadata": {
        "id": "A8g8VCOKJwpC",
        "colab": {
          "base_uri": "https://localhost:8080/"
        },
        "outputId": "477ad8d5-05b3-4e0b-9135-71b1dfe13934"
      },
      "outputs": [
        {
          "output_type": "stream",
          "name": "stdout",
          "text": [
            "Drive already mounted at /content/drive; to attempt to forcibly remount, call drive.mount(\"/content/drive\", force_remount=True).\n"
          ]
        }
      ],
      "source": [
        "from google.colab import drive\n",
        "import pandas as pd\n",
        "import os\n",
        "import csv\n",
        "drive.mount('/content/drive')"
      ]
    },
    {
      "cell_type": "code",
      "source": [
        "!ls"
      ],
      "metadata": {
        "colab": {
          "base_uri": "https://localhost:8080/"
        },
        "id": "B4Dv-9xoMzTK",
        "outputId": "744b9cf3-2b00-40ab-b268-b21d33a3376d"
      },
      "execution_count": null,
      "outputs": [
        {
          "output_type": "stream",
          "name": "stdout",
          "text": [
            "drive  sample_data\n"
          ]
        }
      ]
    },
    {
      "cell_type": "code",
      "source": [
        "def list_files(directory):\n",
        "    files = os.listdir(directory)\n",
        "    return files\n",
        "\n",
        "# Replace 'directory_path' with the path of the directory you want to list the files of\n",
        "directory_path = './drive/MyDrive/raw_data'\n",
        "files = list_files(directory_path)"
      ],
      "metadata": {
        "id": "STbrdTqOM4Ij"
      },
      "execution_count": null,
      "outputs": []
    },
    {
      "cell_type": "code",
      "source": [
        "import csv\n",
        "\n",
        "# Define headers\n",
        "headers = [\"query\", \"lang1\", \"lang2\"]\n",
        "\n",
        "# Define the file path for the new CSV file\n",
        "new_csv_file_path = \"./drive/MyDrive/preprocessed.csv\"\n",
        "\n",
        "# Open the new CSV file in write mode\n",
        "with open(new_csv_file_path, mode='w', newline='') as file:\n",
        "    writer = csv.writer(file)\n",
        "\n",
        "    # Write headers to the CSV file\n",
        "    writer.writerow(headers)\n",
        "\n",
        "print(f\"New CSV file '{new_csv_file_path}' has been created with headers only.\")"
      ],
      "metadata": {
        "colab": {
          "base_uri": "https://localhost:8080/"
        },
        "id": "HMIL3eqgkGbJ",
        "outputId": "1d412f11-a700-409a-ca20-60e5e7988979"
      },
      "execution_count": null,
      "outputs": [
        {
          "output_type": "stream",
          "name": "stdout",
          "text": [
            "New CSV file './drive/MyDrive/preprocessed.csv' has been created with headers only.\n"
          ]
        }
      ]
    },
    {
      "cell_type": "code",
      "source": [
        "import os\n",
        "import pandas as pd\n",
        "\n",
        "def process_language_files(directory_path: str, files: list[str], lang1: str, lang2: str, csv_path: str) -> None:\n",
        "    all_data = []\n",
        "\n",
        "    for file in files:\n",
        "        file_path = os.path.join(directory_path, file)\n",
        "        print(f\"Processing {file_path}\")\n",
        "        try:\n",
        "            df = pd.read_csv(file_path, on_bad_lines='skip')\n",
        "        except FileNotFoundError:\n",
        "            print(f\"File not found: {file_path}\")\n",
        "            continue\n",
        "\n",
        "        query = df.columns.values[0].split(' -')[0]\n",
        "        lang1_index = None\n",
        "        lang2_index = None\n",
        "\n",
        "        languages = df.iloc[:, 0]\n",
        "\n",
        "        for i, language in enumerate(languages):\n",
        "            if language == lang1:\n",
        "                lang1_index = i\n",
        "            elif language == lang2:\n",
        "                lang2_index = i\n",
        "        if lang1_index is None or lang2_index is None:\n",
        "            try:\n",
        "                query, lang1_text, lang2_text = if_is_broken(file_path, lang1, lang2)\n",
        "                all_data.append([query, lang1_text, lang2_text])\n",
        "            except ValueError as e:\n",
        "                print(f\"Error occurred while processing file: {e}\")\n",
        "                continue\n",
        "            continue\n",
        "\n",
        "        lang1_data = df.iloc[lang1_index, 1:]\n",
        "        lang2_data = df.iloc[lang2_index, 1:]\n",
        "        lang1_text = \"\"\n",
        "        lang2_text = \"\"\n",
        "        for data in lang1_data:\n",
        "            if not isinstance(data, str) or pd.isna(data):\n",
        "                continue\n",
        "            lang1_text += data\n",
        "        for data in lang2_data:\n",
        "            if not isinstance(data, str) or pd.isna(data):\n",
        "                continue\n",
        "            lang2_text += data\n",
        "\n",
        "        all_data.append([query, lang1_text, lang2_text])\n",
        "\n",
        "    all_data_df = pd.DataFrame(all_data, columns=['query', 'lang1', 'lang2'])\n",
        "\n",
        "    try:\n",
        "        all_data_df.to_csv(csv_path, mode='a', index=False, header=not os.path.exists(csv_path))\n",
        "        print(f\"Data written to {csv_path}\")\n",
        "    except Exception as e:\n",
        "        print(f\"Error occurred while writing to file: {e}\")\n"
      ],
      "metadata": {
        "id": "z12DmbjHOsZ9"
      },
      "execution_count": null,
      "outputs": []
    },
    {
      "cell_type": "code",
      "source": [
        "def if_is_broken(file_path: str, lang1: str, lang2: str) -> list[str]:\n",
        "   with open(file_path, newline='') as csvfile:\n",
        "    query, lang1_text, lang2_text = \"\", \"\", \"\"\n",
        "\n",
        "    reader = csv.reader(csvfile)\n",
        "\n",
        "    # Iterate over each row in the CSV file\n",
        "    for index,row in enumerate(reader):\n",
        "        # Access the row here\n",
        "        if index == 0:\n",
        "            query = row[0].split(' -')[0]\n",
        "        else:\n",
        "            if row[0] == lang1:\n",
        "                lang1_text = ''.join(row[1:])\n",
        "            elif row[0] == lang2:\n",
        "                lang2_text = ''.join(row[1:])\n",
        "    if len(lang1_text) <= 1 or len(lang2_text) <= 1:\n",
        "         raise ValueError(\"Text data is missing for one or both of the provided languages.\")\n",
        "    return [query, lang1_text, lang2_text]"
      ],
      "metadata": {
        "id": "ZDo8nqIjy_yR"
      },
      "execution_count": null,
      "outputs": []
    },
    {
      "cell_type": "code",
      "source": [
        "process_language_files(directory_path,files,\"Java\", \"Python\", new_csv_file_path)"
      ],
      "metadata": {
        "id": "9-NMDl6faN1L"
      },
      "execution_count": null,
      "outputs": []
    }
  ]
}